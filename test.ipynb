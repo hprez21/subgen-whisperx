{
 "cells": [
  {
   "cell_type": "code",
   "execution_count": 12,
   "metadata": {},
   "outputs": [
    {
     "name": "stdout",
     "output_type": "stream",
     "text": [
      "total_tokens=42273 cached_content_token_count=None\n",
      "Subtitle file generated: assets/input.ai.srt\n"
     ]
    }
   ],
   "source": [
    "import dotenv\n",
    "from google import genai\n",
    "\n",
    "dotenv.load_dotenv()\n",
    "\n",
    "client = genai.Client()\n",
    "\n",
    "myfile = client.files.upload(file='tests/test_audio.mp3')\n",
    "\n",
    "response = client.models.generate_content(\n",
    "    model=\"gemini-2.0-flash-exp\",\n",
    "    contents=[\n",
    "        \"Generate a transcript of the speech.Return it in the format of an SRT file with appropriate timestamps and speaker labels.\",\n",
    "        myfile,\n",
    "    ],\n",
    ")\n",
    "tokens = client.models.count_tokens(model=\"gemini-2.0-flash-exp\", contents=[myfile])\n",
    "print(tokens)\n",
    "\n",
    "for f in client.files.list():\n",
    "    # print(\" \", f.name)\n",
    "    client.files.delete(name=f.name)\n",
    "# print(response.text)\n",
    "subtitle_file_name = \"assets/input.ai.srt\"\n",
    "try:\n",
    "    with open(subtitle_file_name, \"w\", encoding=\"utf-8\") as f:\n",
    "        f.write(response.text)\n",
    "        print(f\"Subtitle file generated: {subtitle_file_name}\")\n",
    "except Exception as e:\n",
    "    print(f\"An error occurred while writing the subtitle file: {e}\")\n"
   ]
  }
 ],
 "metadata": {
  "kernelspec": {
   "display_name": "Python 3",
   "language": "python",
   "name": "python3"
  },
  "language_info": {
   "codemirror_mode": {
    "name": "ipython",
    "version": 3
   },
   "file_extension": ".py",
   "mimetype": "text/x-python",
   "name": "python",
   "nbconvert_exporter": "python",
   "pygments_lexer": "ipython3",
   "version": "3.13.1"
  }
 },
 "nbformat": 4,
 "nbformat_minor": 2
}

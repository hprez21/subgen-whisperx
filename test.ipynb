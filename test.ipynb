{
 "cells": [
  {
   "cell_type": "code",
   "execution_count": 1,
   "metadata": {},
   "outputs": [],
   "source": [
    "import sys\n",
    "import os\n",
    "from utils.constants import DEFAULT_INPUT_VIDEO, MODEL_SIZE\n",
    "import argparse\n",
    "from datetime import datetime\n",
    "import logging\n",
    "import coloredlogs\n",
    "from typing import Dict\n",
    "import utils.timer as timer\n",
    "\n"
   ]
  },
  {
   "cell_type": "code",
   "execution_count": 2,
   "metadata": {},
   "outputs": [],
   "source": [
    "import ffmpeg"
   ]
  },
  {
   "cell_type": "code",
   "execution_count": 3,
   "metadata": {},
   "outputs": [
    {
     "name": "stderr",
     "output_type": "stream",
     "text": [
      "c:\\Users\\proti\\anaconda3\\envs\\whisperx\\lib\\site-packages\\tqdm\\auto.py:21: TqdmWarning: IProgress not found. Please update jupyter and ipywidgets. See https://ipywidgets.readthedocs.io/en/stable/user_install.html\n",
      "  from .autonotebook import tqdm as notebook_tqdm\n",
      "INFO:speechbrain.utils.quirks:Applied quirks (see `speechbrain.utils.quirks`): [disable_jit_profiling, allow_tf32]\n",
      "INFO:speechbrain.utils.quirks:Excluded quirks specified by the `SB_DISABLE_QUIRKS` environment (comma-separated list): []\n"
     ]
    }
   ],
   "source": [
    "import whisperx"
   ]
  },
  {
   "cell_type": "code",
   "execution_count": 4,
   "metadata": {},
   "outputs": [],
   "source": [
    "from torch import cuda"
   ]
  },
  {
   "cell_type": "code",
   "execution_count": 5,
   "metadata": {},
   "outputs": [
    {
     "name": "stdout",
     "output_type": "stream",
     "text": [
      "mov,mp4,m4a,3gp,3g2,mj2\n"
     ]
    },
    {
     "data": {
      "text/plain": [
       "str"
      ]
     },
     "execution_count": 5,
     "metadata": {},
     "output_type": "execute_result"
    }
   ],
   "source": [
    "video_path = \"H:\\TV WD Black\\Documentaries\\Mythbusters (2003) HD\\Season 2003\\MythBusters - 2003x01 - Jet Assisted Chevy.mp4\"\n",
    "type_info = ffmpeg.probe(video_path)[\"format\"][\"format_name\"]\n",
    "print(type_info)\n",
    "type(type_info)"
   ]
  },
  {
   "cell_type": "code",
   "execution_count": null,
   "metadata": {},
   "outputs": [
    {
     "name": "stdout",
     "output_type": "stream",
     "text": [
      "Detected VRAM: 7.999876618405539 GB or 8589803520 B\n",
      "Using model size: medium.en\n"
     ]
    }
   ],
   "source": [
    "import math\n",
    "if cuda.is_available():\n",
    "    vram_gb = round((cuda.get_device_properties(0).total_memory / 1.073742e+9), 1)\n",
    "    print(f\"Detected VRAM: {vram_gb} GB or {cuda.get_device_properties(0).total_memory} B\")\n",
    "    if vram_gb >= 8.0:\n",
    "        MODEL_SIZE = \"large-v3\"\n",
    "    elif vram_gb >= 5.0:\n",
    "        MODEL_SIZE = \"medium.en\"\n",
    "    elif vram_gb >= 3.5:\n",
    "        MODEL_SIZE = \"small.en\"\n",
    "    elif vram_gb >= 2.5:\n",
    "        MODEL_SIZE = \"base.en\"\n",
    "    else:\n",
    "        MODEL_SIZE = \"tiny.en\"\n",
    "else:\n",
    "    MODEL_SIZE = \"tiny.en\"  # Fallback if no GPU is available\n",
    "\n",
    "print(f\"Using model size: {MODEL_SIZE}\")"
   ]
  }
 ],
 "metadata": {
  "kernelspec": {
   "display_name": "whisperx",
   "language": "python",
   "name": "python3"
  },
  "language_info": {
   "codemirror_mode": {
    "name": "ipython",
    "version": 3
   },
   "file_extension": ".py",
   "mimetype": "text/x-python",
   "name": "python",
   "nbconvert_exporter": "python",
   "pygments_lexer": "ipython3",
   "version": "3.10.16"
  }
 },
 "nbformat": 4,
 "nbformat_minor": 2
}
